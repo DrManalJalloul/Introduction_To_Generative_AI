{
  "nbformat": 4,
  "nbformat_minor": 0,
  "metadata": {
    "colab": {
      "provenance": []
    },
    "kernelspec": {
      "name": "python3",
      "display_name": "Python 3"
    },
    "language_info": {
      "name": "python"
    }
  },
  "cells": [
    {
      "cell_type": "markdown",
      "source": [
        "# **Week 2 Hands-on Lab: Implementing a Variational Auto-Encoder and Training it on the MNIST Dataset**\n",
        "\n",
        "\n"
      ],
      "metadata": {
        "id": "br0Qd7WyYBcq"
      }
    },
    {
      "cell_type": "markdown",
      "source": [
        "**Introduction**\n",
        "This notebook will guide you in implementing a simple Variational Autoencoder (VAE) using Python and a deep learning framework like TensorFlow or PyTorch. You will learn how to train a VAE on a dataset, visualize its latent space, and generate new data from the learned latent representations.\n",
        "\n",
        "Let's get started!\n",
        "\n",
        "---"
      ],
      "metadata": {
        "id": "DGSzwClYbFQ7"
      }
    },
    {
      "cell_type": "markdown",
      "source": [
        "**Step 1: Import the Libraries**\n",
        "First, we will import the needed libraries for the data handling, model creation, and visualization."
      ],
      "metadata": {
        "id": "w2n6gRvjbex1"
      }
    },
    {
      "cell_type": "code",
      "source": [
        "#Upgrade Tensorflow if needed\n",
        "!pip install --upgrade tensorflow\n"
      ],
      "metadata": {
        "id": "goUu_nYFPazS"
      },
      "execution_count": null,
      "outputs": []
    },
    {
      "cell_type": "code",
      "source": [
        "import tensorflow as tf\n",
        "from tensorflow.keras.layers import Input, Dense, Lambda, Flatten, Reshape\n",
        "from tensorflow.keras.models import Model\n",
        "from tensorflow.keras.losses import mse\n",
        "import tensorflow.keras.optimizers\n",
        "import numpy as np\n",
        "import matplotlib.pyplot as plt\n"
      ],
      "metadata": {
        "id": "gjbf96vrbouV"
      },
      "execution_count": null,
      "outputs": []
    },
    {
      "cell_type": "markdown",
      "source": [
        "**Step 2: Load the Dataset**\n",
        "\n",
        "You will use the [MNIST](https://www.tensorflow.org/datasets/catalog/mnist) dataset of handwritten digits as input data.\n",
        "\n"
      ],
      "metadata": {
        "id": "fYJ8-rphb8jc"
      }
    },
    {
      "cell_type": "code",
      "source": [
        "# Load the MNIST dataset\n",
        "(x_train, _), (x_test, _) = tf.keras.datasets.mnist.load_data()\n",
        "\n",
        "# Normalize the data\n",
        "x_train = x_train.astype('float32') / 255.0\n",
        "x_test = x_test.astype('float32') / 255.0\n",
        "\n",
        "# Flatten the images\n",
        "x_train = x_train.reshape(-1, 28 * 28)\n",
        "x_test = x_test.reshape(-1, 28 * 28)\n"
      ],
      "metadata": {
        "id": "AoIKpMKZcHVV"
      },
      "execution_count": null,
      "outputs": []
    },
    {
      "cell_type": "markdown",
      "source": [
        "**Step 3: Build the VAE Model**\n",
        "\n",
        "1. **Define the Encoder:** the encoder compresses the input into a latent representation."
      ],
      "metadata": {
        "id": "b74iHU0IcmmO"
      }
    },
    {
      "cell_type": "code",
      "source": [
        "input_dim = 28 * 28\n",
        "latent_dim = 2\n",
        "\n",
        "# Encoder\n",
        "inputs = Input(shape=(input_dim,))\n",
        "h = Dense(512, activation='relu')(inputs)\n",
        "z_mean = Dense(latent_dim)(h)\n",
        "z_log_var = Dense(latent_dim)(h)\n",
        "\n",
        "# Sampling function\n",
        "def sampling(args):\n",
        "    z_mean, z_log_var = args\n",
        "    epsilon = tf.random.normal(shape=(tf.shape(z_mean)[0], latent_dim))\n",
        "    return z_mean + tf.exp(0.5 * z_log_var) * epsilon\n",
        "\n",
        "z = Lambda(sampling)([z_mean, z_log_var])\n"
      ],
      "metadata": {
        "id": "SEOueQmccsB9"
      },
      "execution_count": null,
      "outputs": []
    },
    {
      "cell_type": "markdown",
      "source": [
        "2. **Define the Decoder:** the decoder reconstructs the data from latent representation.\n",
        "\n"
      ],
      "metadata": {
        "id": "QjhZPQGpcvHs"
      }
    },
    {
      "cell_type": "code",
      "source": [
        "# Decoder\n",
        "decoder_h = Dense(512, activation='relu')\n",
        "decoder_mean = Dense(input_dim, activation='sigmoid')\n",
        "h_decoded = decoder_h(z)\n",
        "x_decoded_mean = decoder_mean(h_decoded)\n"
      ],
      "metadata": {
        "id": "1-sfKusTJa45"
      },
      "execution_count": null,
      "outputs": []
    },
    {
      "cell_type": "markdown",
      "source": [
        "3. **Define the VAE Model:** Combine the encoder and decoder."
      ],
      "metadata": {
        "id": "KlrjN9PZJhm0"
      }
    },
    {
      "cell_type": "code",
      "source": [
        "vae = Model(inputs, x_decoded_mean)"
      ],
      "metadata": {
        "id": "idoT8hlDJodL"
      },
      "execution_count": null,
      "outputs": []
    },
    {
      "cell_type": "markdown",
      "source": [
        "**Step 4: Define the loss Function**\n",
        "\n",
        "We will use the MSE error and Adam optimizer."
      ],
      "metadata": {
        "id": "dBJARVXJc61L"
      }
    },
    {
      "cell_type": "code",
      "source": [
        "lr_schedule = tensorflow.keras.optimizers.schedules.ExponentialDecay(initial_learning_rate = 5e-01, decay_steps = 2500, decay_rate = 0.75,staircase=True)\n",
        "tensorflow.keras.optimizers.Adam(learning_rate = lr_schedule,beta_1=0.95,beta_2=0.99,epsilon=1e-01)\n",
        "vae.compile(optimizer='adam', loss='mean_squared_error')"
      ],
      "metadata": {
        "id": "-jy0vEm7S928"
      },
      "execution_count": null,
      "outputs": []
    },
    {
      "cell_type": "markdown",
      "source": [
        "**Step 5: Train the VAE**\n",
        "\n",
        "Train the model on the MNIST dataset."
      ],
      "metadata": {
        "id": "Vif8WAIvdShq"
      }
    },
    {
      "cell_type": "code",
      "source": [
        "vae.fit(x_train, x_train, epochs=20, batch_size=128, validation_data=(x_test, x_test))"
      ],
      "metadata": {
        "id": "M_ZUrHGudgVv"
      },
      "execution_count": null,
      "outputs": []
    },
    {
      "cell_type": "markdown",
      "source": [
        "**Step 6: Visualize the Latent Space**\n",
        "\n",
        "Plot the latent space to observe how the VAE organizes the data."
      ],
      "metadata": {
        "id": "14BDZQUZdyTK"
      }
    },
    {
      "cell_type": "code",
      "source": [
        "encoder = Model(inputs, z_mean)\n",
        "z_test = encoder.predict(x_test)\n",
        "\n",
        "plt.figure(figsize=(8, 6))\n",
        "plt.scatter(z_test[:, 0], z_test[:, 1], c=_[:len(z_test)], cmap='viridis')\n",
        "plt.colorbar()\n",
        "plt.xlabel(\"Latent Dimension 1\")\n",
        "plt.ylabel(\"Latent Dimension 2\")\n",
        "plt.title(\"Latent Space Visualization\")\n",
        "plt.show()\n"
      ],
      "metadata": {
        "id": "OQs3mwSyd04u"
      },
      "execution_count": null,
      "outputs": []
    },
    {
      "cell_type": "markdown",
      "source": [
        "**Step 7: Generate New Images**\n",
        "\n",
        "Sample points from the latent space and generate new images."
      ],
      "metadata": {
        "id": "PD-d91Nrd3a5"
      }
    },
    {
      "cell_type": "code",
      "source": [
        "# Define a decoder model\n",
        "decoder_input = Input(shape=(latent_dim,))\n",
        "_h_decoded = decoder_h(decoder_input)\n",
        "_x_decoded_mean = decoder_mean(_h_decoded)\n",
        "generator = Model(decoder_input, _x_decoded_mean)\n",
        "\n",
        "# Generate images\n",
        "n = 10  # Number of images\n",
        "grid_x = np.linspace(-3, 3, n)\n",
        "grid_y = np.linspace(-3, 3, n)\n",
        "\n",
        "figure = np.zeros((28 * n, 28 * n))\n",
        "for i, yi in enumerate(grid_x):\n",
        "    for j, xi in enumerate(grid_y):\n",
        "        z_sample = np.array([[xi, yi]])\n",
        "        print(z_sample)\n",
        "        x_decoded = generator.predict(z_sample)\n",
        "        digit = x_decoded[0].reshape(28, 28)\n",
        "        figure[i * 28: (i + 1) * 28, j * 28: (j + 1) * 28] = digit\n",
        "\n",
        "plt.figure(figsize=(10, 10))\n",
        "plt.imshow(figure, cmap='Greys_r')\n",
        "plt.title(\"Generated Images from Latent Space\")\n",
        "plt.axis('Off')\n",
        "plt.show()\n",
        "\n"
      ],
      "metadata": {
        "id": "kOywnao1d9H9"
      },
      "execution_count": null,
      "outputs": []
    },
    {
      "cell_type": "markdown",
      "source": [
        "\n",
        "\n",
        "---"
      ],
      "metadata": {
        "id": "vnqPc43oeOFh"
      }
    },
    {
      "cell_type": "markdown",
      "source": [
        "**Conclusion:**\n",
        "\n",
        "Congratulations! You have successfully implemented and trained your first VAE! This activity gave you hands-on experience with VAEs, reinforcing theoretical concepts through practical implementation. Let me know if you'd like further refinements or additional challenges!"
      ],
      "metadata": {
        "id": "SH3wk5tJeGyN"
      }
    },
    {
      "cell_type": "markdown",
      "source": [
        "---"
      ],
      "metadata": {
        "id": "lM-mK1dZcyox"
      }
    }
  ]
}