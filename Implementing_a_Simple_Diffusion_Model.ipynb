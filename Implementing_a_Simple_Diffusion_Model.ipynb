{
  "nbformat": 4,
  "nbformat_minor": 0,
  "metadata": {
    "colab": {
      "provenance": []
    },
    "kernelspec": {
      "name": "python3",
      "display_name": "Python 3"
    },
    "language_info": {
      "name": "python"
    }
  },
  "cells": [
    {
      "cell_type": "markdown",
      "source": [
        "# **Week 4 Hands_on Lab: Implementing a Simple Diffusion Model**"
      ],
      "metadata": {
        "id": "7f_u-K7bWcVT"
      }
    },
    {
      "cell_type": "markdown",
      "source": [
        "In this hands-on lab, we will write code to simulate the diffusion process.\n",
        "By the end of this hands-on lab, you will:\n",
        "\n",
        "* Understand the principles of forward and backward diffusion processes in image generation.\n",
        "* Visualize the step-by-step progression of adding and removing noise in a diffusion model.\n",
        "* Implement a basic diffusion process using Python and NumPy, building foundational knowledge for understanding real-world diffusion models."
      ],
      "metadata": {
        "id": "2l877tlZc3H6"
      }
    },
    {
      "cell_type": "markdown",
      "source": [
        "# **Part 1: Simulate the Forward Diffusion Process**"
      ],
      "metadata": {
        "id": "lyl4s6D9XyM6"
      }
    },
    {
      "cell_type": "markdown",
      "source": [
        "1. **Import Needed Libraries**"
      ],
      "metadata": {
        "id": "eXIA5iTLX-2J"
      }
    },
    {
      "cell_type": "code",
      "source": [
        "import numpy as np\n",
        "import matplotlib.pyplot as plt\n"
      ],
      "metadata": {
        "id": "KH9YnroCYBM2"
      },
      "execution_count": null,
      "outputs": []
    },
    {
      "cell_type": "markdown",
      "source": [
        "2.\t**Generate a Simple Image**\n",
        "\n",
        "Create a 2D array to represent a basic image (e.g., a black-and-white gradient).\n"
      ],
      "metadata": {
        "id": "UBootFr_YFG7"
      }
    },
    {
      "cell_type": "code",
      "source": [
        "# Generate a simple \"image\" as a gradient\n",
        "image = np.linspace(0, 1, 256).reshape(16, 16)\n",
        "plt.imshow(image, cmap='gray')\n",
        "plt.title(\"Original Image\")\n",
        "plt.colorbar()\n",
        "plt.show()\n"
      ],
      "metadata": {
        "id": "fcBq9vXxbNX3"
      },
      "execution_count": null,
      "outputs": []
    },
    {
      "cell_type": "markdown",
      "source": [
        "3.\t**Define the Forward Diffusion Process**\n",
        "\n",
        "Add Gaussian noise to simulate the degradation of the image over time:\n"
      ],
      "metadata": {
        "id": "w8ap8qB-bPK0"
      }
    },
    {
      "cell_type": "code",
      "source": [
        "def forward_diffusion(image, num_steps, beta_start=0.01, beta_end=0.5):\n",
        "    betas = np.linspace(beta_start, beta_end, num_steps)\n",
        "    noisy_images = []\n",
        "    for t, beta in enumerate(betas):\n",
        "        noise = np.random.normal(0, np.sqrt(beta), image.shape)\n",
        "        noisy_image = np.sqrt(1 - beta) * image + noise\n",
        "        noisy_images.append(noisy_image)\n",
        "    return noisy_images\n",
        "\n"
      ],
      "metadata": {
        "id": "YPk2rbbgbUJV"
      },
      "execution_count": null,
      "outputs": []
    },
    {
      "cell_type": "markdown",
      "source": [
        "**4. Visualize the Forward Process:**\n",
        "\n",
        "Simulate the diffusion process and visualize intermediate steps:"
      ],
      "metadata": {
        "id": "s7nYhbzId4AQ"
      }
    },
    {
      "cell_type": "code",
      "source": [
        "# Simulate forward diffusion\n",
        "num_steps = 10\n",
        "noisy_images = forward_diffusion(image, num_steps)\n",
        "\n",
        "# Visualize the first 5 steps\n",
        "plt.figure(figsize=(10, 2))\n",
        "for i, step_image in enumerate(noisy_images[:]):\n",
        "    plt.subplot(1, 11, i+1 )\n",
        "    plt.imshow(step_image, cmap='gray')\n",
        "    plt.title(f\"Step {i+1}\")\n",
        "    plt.axis('off')\n",
        "plt.suptitle(\"Forward Diffusion Process\")\n",
        "plt.show()\n"
      ],
      "metadata": {
        "id": "XY0Cp3GPd50k"
      },
      "execution_count": null,
      "outputs": []
    },
    {
      "cell_type": "markdown",
      "source": [
        "# **Part 2: Simulate the Backward Denoising Process**"
      ],
      "metadata": {
        "id": "wtQF-MLIbYAR"
      }
    },
    {
      "cell_type": "markdown",
      "source": [
        "1.\t**Define the Reverse Denoising Process**\n",
        "\n",
        "Implement a denoising function to reconstruct the original image:\n"
      ],
      "metadata": {
        "id": "SAr6XCRYbbGV"
      }
    },
    {
      "cell_type": "code",
      "source": [
        "def backward_denoising(noisy_images, num_steps, beta_start=0.01, beta_end=0.5):\n",
        "    betas = np.linspace(beta_start, beta_end, num_steps)\n",
        "    denoised_images = [noisy_images[-1]]  # Start with the most noisy image\n",
        "    for t in reversed(range(num_steps)):\n",
        "        beta = betas[t]\n",
        "        noisy_image = denoised_images[-1]\n",
        "        noise_estimate = noisy_image - np.sqrt(1 - beta) * image\n",
        "        denoised_image = (noisy_image - noise_estimate * beta) / np.sqrt(1 - beta)\n",
        "        denoised_images.append(denoised_image)\n",
        "    return denoised_images[::-1]\n",
        "\n"
      ],
      "metadata": {
        "id": "37IwQJ2UbfK4"
      },
      "execution_count": null,
      "outputs": []
    },
    {
      "cell_type": "markdown",
      "source": [
        "**2. Visualize the Reverse Process:**\n",
        "\n",
        "Observe how noise is removed step-by-step:"
      ],
      "metadata": {
        "id": "Hp8_OGAbe8Rn"
      }
    },
    {
      "cell_type": "code",
      "source": [
        "# Simulate backward denoising\n",
        "denoised_images = backward_denoising(noisy_images, num_steps)\n",
        "\n",
        "# Visualize the first 5 steps\n",
        "plt.figure(figsize=(10, 2))\n",
        "print(len(denoised_images))\n",
        "for i, step_image in enumerate(denoised_images[::-1]):\n",
        "    plt.subplot(1, 11, i+1 )\n",
        "    plt.imshow(step_image, cmap='gray')\n",
        "    plt.title(f\"Step {i+1}\")\n",
        "    plt.axis('off')\n",
        "plt.suptitle(\"Backward Denoising Process\")\n",
        "plt.show()\n"
      ],
      "metadata": {
        "id": "r6l82EELe-Tq"
      },
      "execution_count": null,
      "outputs": []
    },
    {
      "cell_type": "markdown",
      "source": [
        "# **Part 3: Experimentation**"
      ],
      "metadata": {
        "id": "9V-0tU-5Wrmj"
      }
    },
    {
      "cell_type": "markdown",
      "source": [
        "\n",
        "1.\t**Test with Different Noise Levels**\n",
        "\n",
        "Change beta_start and beta_end to observe their impact on the diffusion process.\n",
        "2.\t**Use a Real Image**\n",
        "\n",
        "Replace the gradient image with a real grayscale image:\n"
      ],
      "metadata": {
        "id": "_8BSUq3UXbmb"
      }
    },
    {
      "cell_type": "code",
      "source": [
        "from skimage import data\n",
        "image = data.camera() / 255.0  # Normalize image to [0, 1]\n",
        "plt.imshow(image, cmap='gray')\n",
        "plt.title(\"Real Image\")\n",
        "plt.colorbar()\n",
        "plt.show()\n",
        "\n"
      ],
      "metadata": {
        "id": "nVIAzCJ9Xg31"
      },
      "execution_count": null,
      "outputs": []
    },
    {
      "cell_type": "markdown",
      "source": [
        "**3. Evaluate Reconstruction Quality:**\n",
        "\n",
        "Compare the denoised image to the original image:"
      ],
      "metadata": {
        "id": "25VOuKJ8fQkA"
      }
    },
    {
      "cell_type": "code",
      "source": [
        "# Calculate reconstruction error\n",
        "reconstruction_error = np.mean((image - denoised_images[-1])**2)\n",
        "print(f\"Reconstruction Error: {reconstruction_error:.4f}\")\n"
      ],
      "metadata": {
        "id": "2LjsWrYifSWk"
      },
      "execution_count": null,
      "outputs": []
    },
    {
      "cell_type": "markdown",
      "source": [
        "Congratulations! You have reached the end of this Lab!\n",
        "\n",
        "This hands-on lab builds a strong foundation for understanding diffusion models in advanced image generation tasks."
      ],
      "metadata": {
        "id": "O3pYa3SCXkqX"
      }
    }
  ]
}